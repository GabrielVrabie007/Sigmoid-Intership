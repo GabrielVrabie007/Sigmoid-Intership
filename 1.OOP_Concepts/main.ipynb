{
 "cells": [
  {
   "cell_type": "markdown",
   "metadata": {},
   "source": [
    "### Python OOP Concepts\n",
    "Is Python object oriented programming language?\n",
    "\n",
    "-->Shortly YES\n",
    "\n",
    "But here is a small aspect:Python does not support private, public, protected access level modifiers and that makes it not fully OOP Language\n"
   ]
  },
  {
   "cell_type": "markdown",
   "metadata": {},
   "source": [
    "### Encapsulation"
   ]
  },
  {
   "cell_type": "code",
   "execution_count": null,
   "metadata": {},
   "outputs": [
    {
     "name": "stdout",
     "output_type": "stream",
     "text": [
      "Code quality: 5\n",
      "Company Name: Google\n",
      "Allocated Budget: 100000\n"
     ]
    },
    {
     "ename": "AttributeError",
     "evalue": "'CodeGenerators' object has no attribute '__allocated_budget'",
     "output_type": "error",
     "traceback": [
      "\u001b[31m---------------------------------------------------------------------------\u001b[39m",
      "\u001b[31mAttributeError\u001b[39m                            Traceback (most recent call last)",
      "\u001b[36mCell\u001b[39m\u001b[36m \u001b[39m\u001b[32mIn[10]\u001b[39m\u001b[32m, line 16\u001b[39m\n\u001b[32m     14\u001b[39m cursor_generator=CodeGenerators(\u001b[32m5\u001b[39m,\u001b[33m\"\u001b[39m\u001b[33mGoogle\u001b[39m\u001b[33m\"\u001b[39m,\u001b[32m100000\u001b[39m)\n\u001b[32m     15\u001b[39m cursor_generator.\u001b[34m__repr__\u001b[39m()\n\u001b[32m---> \u001b[39m\u001b[32m16\u001b[39m \u001b[38;5;28mprint\u001b[39m(\u001b[43mcursor_generator\u001b[49m\u001b[43m.\u001b[49m\u001b[43m__allocated_budget\u001b[49m) \u001b[38;5;66;03m## AtributeError: 'CodeGenerators' object has no attribute 'allocated_budget'\u001b[39;00m\n",
      "\u001b[31mAttributeError\u001b[39m: 'CodeGenerators' object has no attribute '__allocated_budget'"
     ]
    }
   ],
   "source": [
    "class CodeGenerators:\n",
    "    def __init__(self,code_quality:int,company_name:str,allocated_budget:int):\n",
    "        self.code_quality = code_quality\n",
    "        self.company_name = company_name\n",
    "        self.__allocated_budget = allocated_budget\n",
    "\n",
    "    def __repr__(self):\n",
    "        print(\n",
    "            f\"Code quality: {self.code_quality}\\nCompany Name: {self.company_name}\\nAllocated Budget: {self.__allocated_budget}\"\n",
    "        )\n",
    "\n",
    "\n",
    "# Code quality from 1-->10\n",
    "cursor_generator = CodeGenerators(7, \"Anysphere\", 100000)\n",
    "cursor_generator.__repr__()\n",
    "print(cursor_generator.__allocated_budget) ## AtributeError: 'CodeGenerators' object has no attribute 'allocated_budget'"
   ]
  },
  {
   "cell_type": "markdown",
   "metadata": {},
   "source": [
    "### Inheritance\n"
   ]
  },
  {
   "cell_type": "code",
   "execution_count": null,
   "metadata": {},
   "outputs": [
    {
     "name": "stdout",
     "output_type": "stream",
     "text": [
      "Admin ID's of products: [24231]\n",
      "User ID's of products: [123, 124, 125, 12365]\n"
     ]
    }
   ],
   "source": [
    "class User:\n",
    "\n",
    "    def __init__(self, name: str, access_level: int, products: list):\n",
    "        self.name = name\n",
    "        self.access_level = access_level\n",
    "        self.products = products\n",
    "\n",
    "    def add_product_to_cart(self,product_id:int):\n",
    "        self.products.append(product_id)\n",
    "        return self.products\n",
    "\n",
    "\n",
    "class Admin(User):\n",
    "    def __init__(self,name:str,admin_level:int):\n",
    "        super().__init__(name,access_level=10,products=[])\n",
    "        self.admin_level = admin_level\n",
    "    def block_user(self,user:User,username):\n",
    "        if user.name==username:\n",
    "            return f\"User with name {username} has been blocked\"\n",
    "\n",
    "user1=User(\"John\",2,[123,124,125])\n",
    "admin=Admin(\"Admin\",10)\n",
    "print(\"Admin ID's of products:\",admin.add_product_to_cart(24231))\n",
    "print(\"User ID's of products:\",user1.add_product_to_cart(12365))"
   ]
  },
  {
   "cell_type": "markdown",
   "metadata": {},
   "source": [
    "### Polymorphism Overriding\n",
    "\n",
    "Overriding-is same names of methods but implementations are different and one class inherit all methods and parameters from another"
   ]
  },
  {
   "cell_type": "code",
   "execution_count": 21,
   "metadata": {},
   "outputs": [
    {
     "name": "stdout",
     "output_type": "stream",
     "text": [
      "I have authorization to get access keys\n",
      "I am a teacher, I don't need authorization to get the keys\n"
     ]
    }
   ],
   "source": [
    "class Student:\n",
    "    def __init__(self, name: str, group: str):\n",
    "        self.name = name\n",
    "        self.group = group\n",
    "\n",
    "    def get_keys_from_class(self, teacher_autorization: bool):\n",
    "        if teacher_autorization:\n",
    "            return \"I have authorization to get access keys\"\n",
    "        return \"I don't have access to the keys\"\n",
    "\n",
    "\n",
    "class Teacher(Student):\n",
    "    def __init__(self, name: str, status: str):\n",
    "        super().__init__(name, group=\"\")\n",
    "        self.status = status\n",
    "\n",
    "    def get_keys_from_class(self):\n",
    "        return \"I am a teacher, I don't need authorization to get the keys\"\n",
    "\n",
    "\n",
    "student = Student(\"Gabriel\", \"TI-232\")\n",
    "teacher = Teacher(\"Ana\", \"Superior Lecturer\")\n",
    "\n",
    "print(student.get_keys_from_class(True)) \n",
    "print(teacher.get_keys_from_class())  "
   ]
  },
  {
   "cell_type": "markdown",
   "metadata": {},
   "source": [
    "### Polymorphism Overloading\n",
    "\n",
    "Overloading- methods are in the same class,have same name but has different parameters\n",
    "In Python overloading is not supported but we can simulate it using library multipledispatch\n",
    "\n",
    "pip install multipledispatch"
   ]
  },
  {
   "cell_type": "code",
   "execution_count": 31,
   "metadata": {},
   "outputs": [
    {
     "name": "stdout",
     "output_type": "stream",
     "text": [
      "30\n",
      "45\n",
      "120.0\n"
     ]
    }
   ],
   "source": [
    "from multipledispatch import dispatch\n",
    "\n",
    "\n",
    "class Calculator:\n",
    "\n",
    "    @dispatch(int, int)\n",
    "    def add(self, a: int, b: int):\n",
    "        return a + b\n",
    "\n",
    "    @dispatch(int, int, int)\n",
    "    def add(self, a: int, b: int, c: int):\n",
    "        return a + b + c\n",
    "\n",
    "    @dispatch(float, float, float, float)\n",
    "    def product(self, a: float, b: float, c: float, d: float):\n",
    "        return a * b * c * d\n",
    "\n",
    "\n",
    "calculator = Calculator()\n",
    "\n",
    "print(calculator.add(15, 15))\n",
    "print(calculator.add(15, 15, 15))\n",
    "print(calculator.product(2.0, 3.0, 4.0, 5.0))"
   ]
  }
 ],
 "metadata": {
  "kernelspec": {
   "display_name": "venv",
   "language": "python",
   "name": "python3"
  },
  "language_info": {
   "codemirror_mode": {
    "name": "ipython",
    "version": 3
   },
   "file_extension": ".py",
   "mimetype": "text/x-python",
   "name": "python",
   "nbconvert_exporter": "python",
   "pygments_lexer": "ipython3",
   "version": "3.11.8"
  }
 },
 "nbformat": 4,
 "nbformat_minor": 2
}
