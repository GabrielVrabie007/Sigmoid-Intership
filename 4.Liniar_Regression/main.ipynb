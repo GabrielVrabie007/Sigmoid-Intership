{
 "cells": [
  {
   "cell_type": "code",
   "execution_count": 177,
   "metadata": {},
   "outputs": [],
   "source": [
    "import pandas as pd\n",
    "import numpy as np\n",
    "from sklearn.model_selection import train_test_split\n",
    "from sklearn.linear_model import LinearRegression\n",
    "from custom_LR import LinearRegressionModel as CustomLR\n",
    "from sklearn.metrics import r2_score,mean_absolute_error"
   ]
  },
  {
   "cell_type": "code",
   "execution_count": 178,
   "metadata": {},
   "outputs": [
    {
     "name": "stdout",
     "output_type": "stream",
     "text": [
      "<class 'pandas.core.frame.DataFrame'>\n",
      "RangeIndex: 1725 entries, 0 to 1724\n",
      "Data columns (total 23 columns):\n",
      " #   Column                     Non-Null Count  Dtype  \n",
      "---  ------                     --------------  -----  \n",
      " 0   Unnamed: 0                 1725 non-null   int64  \n",
      " 1   Id                         1725 non-null   int64  \n",
      " 2   year                       1725 non-null   int64  \n",
      " 3   brand                      1725 non-null   object \n",
      " 4   full_model_name            1725 non-null   object \n",
      " 5   model_name                 1725 non-null   object \n",
      " 6   price                      1725 non-null   float64\n",
      " 7   distance_travelled(kms)    1725 non-null   float64\n",
      " 8   fuel_type                  1725 non-null   object \n",
      " 9   city                       1725 non-null   object \n",
      " 10  brand_rank                 1725 non-null   int64  \n",
      " 11  car_age                    1725 non-null   float64\n",
      " 12  distance below 30k km      1725 non-null   int64  \n",
      " 13  new and less used          1725 non-null   int64  \n",
      " 14  inv_car_price              1725 non-null   float64\n",
      " 15  inv_car_dist               1725 non-null   float64\n",
      " 16  inv_car_age                1725 non-null   float64\n",
      " 17  inv_brand                  1725 non-null   float64\n",
      " 18  std_invprice               1725 non-null   float64\n",
      " 19  std_invdistance_travelled  1725 non-null   float64\n",
      " 20  std_invrank                1725 non-null   float64\n",
      " 21  best_buy1                  1725 non-null   float64\n",
      " 22  best_buy2                  1725 non-null   float64\n",
      "dtypes: float64(12), int64(6), object(5)\n",
      "memory usage: 310.1+ KB\n"
     ]
    }
   ],
   "source": [
    "df=pd.read_csv(\"dataset/used_car_dataset.csv\")\n",
    "df.info()"
   ]
  },
  {
   "cell_type": "code",
   "execution_count": 179,
   "metadata": {},
   "outputs": [
    {
     "data": {
      "text/html": [
       "<div>\n",
       "<style scoped>\n",
       "    .dataframe tbody tr th:only-of-type {\n",
       "        vertical-align: middle;\n",
       "    }\n",
       "\n",
       "    .dataframe tbody tr th {\n",
       "        vertical-align: top;\n",
       "    }\n",
       "\n",
       "    .dataframe thead th {\n",
       "        text-align: right;\n",
       "    }\n",
       "</style>\n",
       "<table border=\"1\" class=\"dataframe\">\n",
       "  <thead>\n",
       "    <tr style=\"text-align: right;\">\n",
       "      <th></th>\n",
       "      <th>Unnamed: 0</th>\n",
       "      <th>Id</th>\n",
       "      <th>year</th>\n",
       "      <th>brand</th>\n",
       "      <th>full_model_name</th>\n",
       "      <th>model_name</th>\n",
       "      <th>price</th>\n",
       "      <th>distance_travelled(kms)</th>\n",
       "      <th>fuel_type</th>\n",
       "      <th>city</th>\n",
       "      <th>...</th>\n",
       "      <th>new and less used</th>\n",
       "      <th>inv_car_price</th>\n",
       "      <th>inv_car_dist</th>\n",
       "      <th>inv_car_age</th>\n",
       "      <th>inv_brand</th>\n",
       "      <th>std_invprice</th>\n",
       "      <th>std_invdistance_travelled</th>\n",
       "      <th>std_invrank</th>\n",
       "      <th>best_buy1</th>\n",
       "      <th>best_buy2</th>\n",
       "    </tr>\n",
       "  </thead>\n",
       "  <tbody>\n",
       "    <tr>\n",
       "      <th>0</th>\n",
       "      <td>0</td>\n",
       "      <td>0</td>\n",
       "      <td>2016</td>\n",
       "      <td>Honda</td>\n",
       "      <td>Honda Brio S MT</td>\n",
       "      <td>Brio</td>\n",
       "      <td>425000.0</td>\n",
       "      <td>9680.0</td>\n",
       "      <td>Petrol</td>\n",
       "      <td>Mumbai</td>\n",
       "      <td>...</td>\n",
       "      <td>0</td>\n",
       "      <td>2.352941e-06</td>\n",
       "      <td>0.000103</td>\n",
       "      <td>0.200000</td>\n",
       "      <td>0.142857</td>\n",
       "      <td>0.143417</td>\n",
       "      <td>0.035730</td>\n",
       "      <td>0.132143</td>\n",
       "      <td>677.134239</td>\n",
       "      <td>0.000000</td>\n",
       "    </tr>\n",
       "    <tr>\n",
       "      <th>1</th>\n",
       "      <td>1</td>\n",
       "      <td>1</td>\n",
       "      <td>2012</td>\n",
       "      <td>Nissan</td>\n",
       "      <td>Nissan Sunny XV Diesel</td>\n",
       "      <td>Sunny</td>\n",
       "      <td>325000.0</td>\n",
       "      <td>119120.0</td>\n",
       "      <td>Diesel</td>\n",
       "      <td>Mumbai</td>\n",
       "      <td>...</td>\n",
       "      <td>0</td>\n",
       "      <td>3.076923e-06</td>\n",
       "      <td>0.000008</td>\n",
       "      <td>0.111111</td>\n",
       "      <td>0.090909</td>\n",
       "      <td>0.188859</td>\n",
       "      <td>0.002496</td>\n",
       "      <td>0.079545</td>\n",
       "      <td>37.501318</td>\n",
       "      <td>0.000000</td>\n",
       "    </tr>\n",
       "    <tr>\n",
       "      <th>2</th>\n",
       "      <td>2</td>\n",
       "      <td>2</td>\n",
       "      <td>2017</td>\n",
       "      <td>Toyota</td>\n",
       "      <td>Toyota Fortuner 2.8 4x2 MT [2016-2020]</td>\n",
       "      <td>Fortuner</td>\n",
       "      <td>2650000.0</td>\n",
       "      <td>64593.0</td>\n",
       "      <td>Diesel</td>\n",
       "      <td>Thane</td>\n",
       "      <td>...</td>\n",
       "      <td>0</td>\n",
       "      <td>3.773585e-07</td>\n",
       "      <td>0.000015</td>\n",
       "      <td>0.250000</td>\n",
       "      <td>1.000000</td>\n",
       "      <td>0.019416</td>\n",
       "      <td>0.004978</td>\n",
       "      <td>1.000000</td>\n",
       "      <td>96.646020</td>\n",
       "      <td>0.000000</td>\n",
       "    </tr>\n",
       "    <tr>\n",
       "      <th>3</th>\n",
       "      <td>3</td>\n",
       "      <td>3</td>\n",
       "      <td>2017</td>\n",
       "      <td>Mercedes-Benz</td>\n",
       "      <td>Mercedes-Benz E-Class E 220d Expression [2019-...</td>\n",
       "      <td>E-Class</td>\n",
       "      <td>4195000.0</td>\n",
       "      <td>25000.0</td>\n",
       "      <td>Diesel</td>\n",
       "      <td>Mumbai</td>\n",
       "      <td>...</td>\n",
       "      <td>1</td>\n",
       "      <td>2.383790e-07</td>\n",
       "      <td>0.000040</td>\n",
       "      <td>0.250000</td>\n",
       "      <td>0.500000</td>\n",
       "      <td>0.010692</td>\n",
       "      <td>0.013563</td>\n",
       "      <td>0.493750</td>\n",
       "      <td>71.604306</td>\n",
       "      <td>71.604306</td>\n",
       "    </tr>\n",
       "    <tr>\n",
       "      <th>4</th>\n",
       "      <td>4</td>\n",
       "      <td>4</td>\n",
       "      <td>2012</td>\n",
       "      <td>Hyundai</td>\n",
       "      <td>Hyundai Verna Fluidic 1.6 CRDi SX</td>\n",
       "      <td>Verna</td>\n",
       "      <td>475000.0</td>\n",
       "      <td>23800.0</td>\n",
       "      <td>Diesel</td>\n",
       "      <td>Mumbai</td>\n",
       "      <td>...</td>\n",
       "      <td>0</td>\n",
       "      <td>2.105263e-06</td>\n",
       "      <td>0.000042</td>\n",
       "      <td>0.111111</td>\n",
       "      <td>0.071429</td>\n",
       "      <td>0.127871</td>\n",
       "      <td>0.014269</td>\n",
       "      <td>0.059821</td>\n",
       "      <td>109.150857</td>\n",
       "      <td>0.000000</td>\n",
       "    </tr>\n",
       "  </tbody>\n",
       "</table>\n",
       "<p>5 rows × 23 columns</p>\n",
       "</div>"
      ],
      "text/plain": [
       "   Unnamed: 0  Id  year          brand  \\\n",
       "0           0   0  2016          Honda   \n",
       "1           1   1  2012         Nissan   \n",
       "2           2   2  2017         Toyota   \n",
       "3           3   3  2017  Mercedes-Benz   \n",
       "4           4   4  2012        Hyundai   \n",
       "\n",
       "                                     full_model_name model_name      price  \\\n",
       "0                                    Honda Brio S MT       Brio   425000.0   \n",
       "1                             Nissan Sunny XV Diesel      Sunny   325000.0   \n",
       "2             Toyota Fortuner 2.8 4x2 MT [2016-2020]   Fortuner  2650000.0   \n",
       "3  Mercedes-Benz E-Class E 220d Expression [2019-...    E-Class  4195000.0   \n",
       "4                  Hyundai Verna Fluidic 1.6 CRDi SX      Verna   475000.0   \n",
       "\n",
       "   distance_travelled(kms) fuel_type    city  ...  new and less used  \\\n",
       "0                   9680.0    Petrol  Mumbai  ...                  0   \n",
       "1                 119120.0    Diesel  Mumbai  ...                  0   \n",
       "2                  64593.0    Diesel   Thane  ...                  0   \n",
       "3                  25000.0    Diesel  Mumbai  ...                  1   \n",
       "4                  23800.0    Diesel  Mumbai  ...                  0   \n",
       "\n",
       "   inv_car_price  inv_car_dist  inv_car_age  inv_brand  std_invprice  \\\n",
       "0   2.352941e-06      0.000103     0.200000   0.142857      0.143417   \n",
       "1   3.076923e-06      0.000008     0.111111   0.090909      0.188859   \n",
       "2   3.773585e-07      0.000015     0.250000   1.000000      0.019416   \n",
       "3   2.383790e-07      0.000040     0.250000   0.500000      0.010692   \n",
       "4   2.105263e-06      0.000042     0.111111   0.071429      0.127871   \n",
       "\n",
       "   std_invdistance_travelled  std_invrank   best_buy1  best_buy2  \n",
       "0                   0.035730     0.132143  677.134239   0.000000  \n",
       "1                   0.002496     0.079545   37.501318   0.000000  \n",
       "2                   0.004978     1.000000   96.646020   0.000000  \n",
       "3                   0.013563     0.493750   71.604306  71.604306  \n",
       "4                   0.014269     0.059821  109.150857   0.000000  \n",
       "\n",
       "[5 rows x 23 columns]"
      ]
     },
     "execution_count": 179,
     "metadata": {},
     "output_type": "execute_result"
    }
   ],
   "source": [
    "df.head()\n"
   ]
  },
  {
   "cell_type": "markdown",
   "metadata": {},
   "source": [
    "## 🔹 Column \"Unnamed:0\" has the same values of \"ID\" column -->I can drop one of this columns"
   ]
  },
  {
   "cell_type": "code",
   "execution_count": 180,
   "metadata": {},
   "outputs": [],
   "source": [
    "df.drop(columns=\"Unnamed: 0\",inplace=True)"
   ]
  },
  {
   "cell_type": "code",
   "execution_count": 181,
   "metadata": {},
   "outputs": [
    {
     "name": "stdout",
     "output_type": "stream",
     "text": [
      "Object columns in dataset: ['brand', 'full_model_name', 'model_name', 'fuel_type', 'city']\n"
     ]
    }
   ],
   "source": [
    "category_cols=df.select_dtypes(include=\"object\").columns.tolist()\n",
    "print(\"Object columns in dataset:\" ,category_cols)"
   ]
  },
  {
   "cell_type": "markdown",
   "metadata": {},
   "source": [
    "## 🎯Key features are object type =>is needed to transform to numeric values to increase precision of prediction model "
   ]
  },
  {
   "cell_type": "code",
   "execution_count": null,
   "metadata": {},
   "outputs": [
    {
     "name": "stdout",
     "output_type": "stream",
     "text": [
      "['Petrol' 'Diesel' 'Petrol + 1' 'CNG + 1' 'Hybrid']\n"
     ]
    }
   ],
   "source": [
    "print(df[\"fuel_type\"].unique())\n",
    "\n",
    "# Petrol + 1 means that this car can use petrol but also another fuel type\n",
    "# CNG + 1 means that this car can use Compressed Natural Gas(CNG) but also another fuel type"
   ]
  },
  {
   "cell_type": "markdown",
   "metadata": {},
   "source": [
    "# Data Encoding Techniques in Machine Learning\n",
    "\n",
    "- **Label Encoding**\n",
    "- **Target Encoding**\n",
    "- **One-Hot Encoding**\n",
    "\n",
    "\n",
    "## Encoding Techniques Explained\n",
    "### 1. Label Encoding\n",
    "- Converts categorical values into numerical labels.\n",
    "- Suitable for **ordinal data** where order matters (e.g., education level: High School < Bachelor < Master).\n",
    "- Example: `brand` and `model_name` are encoded using this method.\n",
    "\n",
    "### 2. Target Encoding\n",
    "- Maps categorical variables to the mean of the target variable (e.g., price).\n",
    "- Useful when the categorical variable has many unique values.\n",
    "- Risk of overfitting; recommended when dealing with large datasets.\n",
    "- Example: `full_model_name` and `city` are encoded this way.\n",
    "\n",
    "### 3. One-Hot Encoding\n",
    "- Creates binary columns for each category in the feature.\n",
    "- Suitable for **nominal data** where no intrinsic order exists (e.g., fuel types: Petrol, Diesel, Electric).\n",
    "- Works well when the number of categories is small.\n",
    "- Example: `fuel_type` is encoded using one-hot encoding.\n",
    "\n",
    "## When to Use Each Encoding\n",
    "| Encoding Type | Best Use Case | Drawbacks |\n",
    "|--------------|--------------|-----------|\n",
    "| Label Encoding | Ordinal data | Can mislead models by implying a numerical relationship |\n",
    "| Target Encoding | Large categorical features with target dependency | Risk of overfitting |\n",
    "| One-Hot Encoding | Small categorical features, unordered categories | Can create a large number of features |\n"
   ]
  },
  {
   "cell_type": "code",
   "execution_count": 183,
   "metadata": {},
   "outputs": [],
   "source": [
    "from sklearn.preprocessing import LabelEncoder, OneHotEncoder\n",
    "from category_encoders.target_encoder import TargetEncoder\n",
    "\n",
    "label_enc = LabelEncoder()\n",
    "target_enc = TargetEncoder()\n",
    "onehot_enc = OneHotEncoder(sparse_output=False, drop=\"first\")\n",
    "\n",
    "\n",
    "df[\"brand\"] = label_enc.fit_transform(df[\"brand\"])\n",
    "df[\"model_name\"] = label_enc.fit_transform(df[\"model_name\"])\n",
    "\n",
    "df[\"full_model_name\"] = target_enc.fit_transform(df[\"full_model_name\"], df[\"price\"])\n",
    "df[\"city\"] = target_enc.fit_transform(df[\"city\"], df[\"price\"])\n",
    "\n",
    "fuel_type_encoded = pd.DataFrame(\n",
    "    onehot_enc.fit_transform(df[[\"fuel_type\"]]),\n",
    "    columns=onehot_enc.get_feature_names_out([\"fuel_type\"]),\n",
    ")\n",
    "\n",
    "df = df.drop(columns=[\"fuel_type\"]).join(fuel_type_encoded)"
   ]
  },
  {
   "cell_type": "code",
   "execution_count": 184,
   "metadata": {},
   "outputs": [
    {
     "data": {
      "text/plain": [
       "price                        1.000000\n",
       "full_model_name              0.969703\n",
       "std_invprice                 0.517723\n",
       "inv_car_price                0.517723\n",
       "city                         0.336974\n",
       "year                         0.288483\n",
       "car_age                      0.288483\n",
       "fuel_type_Diesel             0.269330\n",
       "inv_car_age                  0.267973\n",
       "fuel_type_Petrol             0.260109\n",
       "new and less used            0.219786\n",
       "distance below 30k km        0.212197\n",
       "std_invrank                  0.185660\n",
       "inv_brand                    0.185660\n",
       "brand_rank                   0.164591\n",
       "distance_travelled(kms)      0.137351\n",
       "brand                        0.112988\n",
       "best_buy1                    0.106855\n",
       "Id                           0.105696\n",
       "model_name                   0.082217\n",
       "std_invdistance_travelled    0.081735\n",
       "inv_car_dist                 0.081735\n",
       "fuel_type_Petrol + 1         0.034109\n",
       "fuel_type_Hybrid             0.008721\n",
       "best_buy2                    0.008077\n",
       "Name: price, dtype: float64"
      ]
     },
     "execution_count": 184,
     "metadata": {},
     "output_type": "execute_result"
    }
   ],
   "source": [
    "corr_matrix=df.corr()[\"price\"].abs().sort_values(ascending=False)\n",
    "corr_matrix"
   ]
  },
  {
   "cell_type": "markdown",
   "metadata": {},
   "source": [
    "# 🚗 Used Car Dataset Analysis\n",
    "\n",
    "## 📊 Correlation Insights\n",
    "After analyzing the correlation between the **target column (`price`)** and other columns, I noticed that some columns represent the same concept but in slightly different ways:\n",
    "\n",
    "- **`std_invprice`** and **`inv_car_price`**\n",
    "- **`car_age`** and **`year`**\n",
    "- **`std_invdistance_travelled`** and **`inv_car_dist`**\n",
    "- **`inv_brand`** and **`brand_rank`**\n",
    "\n",
    "🔹 **Decision:** I will **not** drop these columns, as they may be useful during model training.  \n",
    "\n",
    "---\n",
    "\n",
    "## 💡 Business Perspective on High-Correlation Columns\n",
    "\n",
    "From a business standpoint, the columns with the highest correlation index are:\n",
    "\n",
    "0. **`full_model_name`**  \n",
    "   - In some rows full model name include:fuel_type,year,type_of_traction,brand,and summing these parameters result high correlation\n",
    "\n",
    "1. **`std_invprice`** 📈  \n",
    "   - Directly calculated from the actual car price.\n",
    "   \n",
    "2. **`year`** 📅  \n",
    "   - Newer cars tend to have **higher prices**.  \n",
    "   - However, the **full model name** and **brand** are also impact price.\n",
    "   \n",
    "3. **`fuel_type`** ⛽  \n",
    "   - Some buyers prioritize fuel type due to price variations.\n",
    "\n",
    "---\n",
    "\n",
    "## 🔍 Missing Features in the Dataset\n",
    "To improve the dataset’s usefulness, it should also include:\n",
    "\n",
    "- **Engine capacity** (e.g., 1.6L, 2.0L) for all cars ⚙️  \n",
    "- **Fuel consumption per 100 km** ⛽  \n",
    "- **Environmental classification** (e.g., Euro 6 / Euro 5 / Euro 4) 🌍  \n",
    "\n",
    "---\n",
    "\n",
    "🚀 **Conclusion:** These additional features would enhance model accuracy and make the dataset more valuable for predictive analysis.\n"
   ]
  },
  {
   "cell_type": "code",
   "execution_count": 185,
   "metadata": {},
   "outputs": [
    {
     "name": "stdout",
     "output_type": "stream",
     "text": [
      "Max value in X_train:\n",
      " Id                           1.724000e+03\n",
      "year                         2.021000e+03\n",
      "brand                        3.000000e+01\n",
      "full_model_name              3.212941e+06\n",
      "model_name                   1.680000e+02\n",
      "price                        1.470000e+07\n",
      "distance_travelled(kms)      7.900000e+05\n",
      "city                         3.800396e+06\n",
      "brand_rank                   8.100000e+01\n",
      "car_age                      3.100000e+01\n",
      "distance below 30k km        1.000000e+00\n",
      "new and less used            1.000000e+00\n",
      "inv_car_price                1.600000e-05\n",
      "inv_car_dist                 2.857143e-03\n",
      "inv_car_age                           inf\n",
      "inv_brand                    1.000000e+00\n",
      "std_invprice                 1.000000e+00\n",
      "std_invdistance_travelled    1.000000e+00\n",
      "std_invrank                  1.000000e+00\n",
      "best_buy1                    2.477518e+03\n",
      "best_buy2                    2.477518e+03\n",
      "fuel_type_Diesel             1.000000e+00\n",
      "fuel_type_Hybrid             1.000000e+00\n",
      "fuel_type_Petrol             1.000000e+00\n",
      "fuel_type_Petrol + 1         1.000000e+00\n",
      "dtype: float64\n",
      "Min value in X_train:\n",
      " Id                           0.000000e+00\n",
      "year                         1.990000e+03\n",
      "brand                        0.000000e+00\n",
      "full_model_name              1.166155e+06\n",
      "model_name                   0.000000e+00\n",
      "price                        6.250000e+04\n",
      "distance_travelled(kms)      3.500000e+02\n",
      "city                         8.687397e+05\n",
      "brand_rank                   1.000000e+00\n",
      "car_age                      0.000000e+00\n",
      "distance below 30k km        0.000000e+00\n",
      "new and less used            0.000000e+00\n",
      "inv_car_price                6.802721e-08\n",
      "inv_car_dist                 1.265823e-06\n",
      "inv_car_age                  3.225806e-02\n",
      "inv_brand                    1.234568e-02\n",
      "std_invprice                 0.000000e+00\n",
      "std_invdistance_travelled    0.000000e+00\n",
      "std_invrank                  0.000000e+00\n",
      "best_buy1                    0.000000e+00\n",
      "best_buy2                    0.000000e+00\n",
      "fuel_type_Diesel             0.000000e+00\n",
      "fuel_type_Hybrid             0.000000e+00\n",
      "fuel_type_Petrol             0.000000e+00\n",
      "fuel_type_Petrol + 1         0.000000e+00\n",
      "dtype: float64\n"
     ]
    }
   ],
   "source": [
    "print(\"Max value in X_train:\\n\", df.max())\n",
    "print(\"Min value in X_train:\\n\", df.min())"
   ]
  },
  {
   "cell_type": "code",
   "execution_count": 186,
   "metadata": {},
   "outputs": [
    {
     "name": "stdout",
     "output_type": "stream",
     "text": [
      "Number of inf values in 'inv_car_age': 21\n"
     ]
    }
   ],
   "source": [
    "num_inf_values = np.isinf(df[\"inv_car_age\"]).sum()\n",
    "print(f\"Number of inf values in 'inv_car_age': {num_inf_values}\")"
   ]
  },
  {
   "cell_type": "markdown",
   "metadata": {},
   "source": [
    "### Remove rows where have inf/-inf values in inv_car_age column"
   ]
  },
  {
   "cell_type": "code",
   "execution_count": null,
   "metadata": {},
   "outputs": [],
   "source": [
    "df = df[~np.isinf(df[\"inv_car_age\"]) & df[\"inv_car_age\"].notna()].reset_index(drop=True)"
   ]
  },
  {
   "cell_type": "markdown",
   "metadata": {},
   "source": [
    "## Select Significant Features more than 0.5"
   ]
  },
  {
   "cell_type": "code",
   "execution_count": 188,
   "metadata": {},
   "outputs": [
    {
     "data": {
      "text/plain": [
       "['price', 'full_model_name', 'std_invprice', 'inv_car_price']"
      ]
     },
     "execution_count": 188,
     "metadata": {},
     "output_type": "execute_result"
    }
   ],
   "source": [
    "selected_features=corr_matrix[(corr_matrix>0.5)].index.tolist()\n",
    "df_selected=df[selected_features]\n",
    "selected_features\n"
   ]
  },
  {
   "cell_type": "markdown",
   "metadata": {},
   "source": [
    "## 📌Define and Verify X_train X_test y_train y_test for NaN Values "
   ]
  },
  {
   "cell_type": "code",
   "execution_count": 189,
   "metadata": {},
   "outputs": [],
   "source": [
    "X=df.drop(columns=[\"price\",\"full_model_name\"])\n",
    "#drop full_model_name because correlation is 0.96\n",
    "y=df[\"price\"]\n",
    "X_train,X_test,y_train,y_test=train_test_split(X,y,test_size=0.3,random_state=42)"
   ]
  },
  {
   "cell_type": "code",
   "execution_count": 191,
   "metadata": {},
   "outputs": [
    {
     "name": "stdout",
     "output_type": "stream",
     "text": [
      "Series([], dtype: int64)\n"
     ]
    }
   ],
   "source": [
    "num_nan_values = df.isna().sum()\n",
    "print(num_nan_values[num_nan_values > 0])"
   ]
  },
  {
   "cell_type": "code",
   "execution_count": 192,
   "metadata": {},
   "outputs": [
    {
     "name": "stdout",
     "output_type": "stream",
     "text": [
      "Series([], dtype: int64)\n",
      "Series([], dtype: int64)\n"
     ]
    }
   ],
   "source": [
    "print(X_train.isna().sum()[X_train.isna().sum() > 0])\n",
    "print(X_test.isna().sum()[X_test.isna().sum() > 0])"
   ]
  },
  {
   "cell_type": "code",
   "execution_count": 193,
   "metadata": {},
   "outputs": [
    {
     "name": "stdout",
     "output_type": "stream",
     "text": [
      "0\n",
      "0\n"
     ]
    }
   ],
   "source": [
    "print(y_train.isna().sum())\n",
    "print(y_test.isna().sum())"
   ]
  },
  {
   "cell_type": "markdown",
   "metadata": {},
   "source": [
    "## 📌Train and Evaluate Full Dataset"
   ]
  },
  {
   "cell_type": "markdown",
   "metadata": {},
   "source": [
    "### Custom Liniar Regression"
   ]
  },
  {
   "cell_type": "code",
   "execution_count": 194,
   "metadata": {},
   "outputs": [
    {
     "name": "stderr",
     "output_type": "stream",
     "text": [
      "d:\\Sigmoid_Intership\\Sigmoid_Homework\\4.Liniar_Regression\\custom_LR.py:41: RuntimeWarning: overflow encountered in matmul\n",
      "  gradients = (X.T @ (X @ self.theta - y)) / m  # Compute gradient\n"
     ]
    },
    {
     "ename": "ValueError",
     "evalue": "Theta contains NaN or Inf values during training.",
     "output_type": "error",
     "traceback": [
      "\u001b[31m---------------------------------------------------------------------------\u001b[39m",
      "\u001b[31mValueError\u001b[39m                                Traceback (most recent call last)",
      "\u001b[36mCell\u001b[39m\u001b[36m \u001b[39m\u001b[32mIn[194]\u001b[39m\u001b[32m, line 2\u001b[39m\n\u001b[32m      1\u001b[39m model_custom = CustomLR(learning_rate=\u001b[32m0.001\u001b[39m, iterations=\u001b[32m1000\u001b[39m, regularization=\u001b[38;5;28;01mNone\u001b[39;00m)\n\u001b[32m----> \u001b[39m\u001b[32m2\u001b[39m \u001b[43mmodel_custom\u001b[49m\u001b[43m.\u001b[49m\u001b[43mfit\u001b[49m\u001b[43m(\u001b[49m\u001b[43mX_train\u001b[49m\u001b[43m,\u001b[49m\u001b[43m \u001b[49m\u001b[43my_train\u001b[49m\u001b[43m)\u001b[49m\n\u001b[32m      3\u001b[39m y_pred=model_custom.predict(X_test)\n\u001b[32m      4\u001b[39m score_custom_LR = model_custom.score(y_test,y_pred)\n",
      "\u001b[36mFile \u001b[39m\u001b[32md:\\Sigmoid_Intership\\Sigmoid_Homework\\4.Liniar_Regression\\custom_LR.py:58\u001b[39m, in \u001b[36mLinearRegressionModel.fit\u001b[39m\u001b[34m(self, X, y)\u001b[39m\n\u001b[32m     56\u001b[39m \u001b[38;5;66;03m# Check for NaN or Inf in theta after update\u001b[39;00m\n\u001b[32m     57\u001b[39m \u001b[38;5;28;01mif\u001b[39;00m np.isnan(\u001b[38;5;28mself\u001b[39m.theta).any() \u001b[38;5;129;01mor\u001b[39;00m np.isinf(\u001b[38;5;28mself\u001b[39m.theta).any():\n\u001b[32m---> \u001b[39m\u001b[32m58\u001b[39m     \u001b[38;5;28;01mraise\u001b[39;00m \u001b[38;5;167;01mValueError\u001b[39;00m(\u001b[33m\"\u001b[39m\u001b[33mTheta contains NaN or Inf values during training.\u001b[39m\u001b[33m\"\u001b[39m)\n",
      "\u001b[31mValueError\u001b[39m: Theta contains NaN or Inf values during training."
     ]
    }
   ],
   "source": [
    "model_custom = CustomLR(learning_rate=0.001, iterations=1000, regularization=None)\n",
    "model_custom.fit(X_train, y_train)\n",
    "y_pred=model_custom.predict(X_test)\n",
    "score_custom_LR = model_custom.score(y_test,y_pred)\n",
    "print(\"Liniar Regression Score of the model using custom implementation is:\",score_custom_LR,)\n",
    "print(\"MAE Custom Liniar Regression:\",mean_absolute_error(y_test,y_pred))"
   ]
  },
  {
   "cell_type": "markdown",
   "metadata": {},
   "source": [
    "# Investigating NaN Values in Custom Linear Regression\n",
    "\n",
    "\n",
    "After some analysis, I discovered that these NaN values are most likely generated during the calculations in either of the following methods:\n",
    "\n",
    "- **`predict`**: The method responsible for making predictions based on the trained model.\n",
    "- **`fit`**: The method used for training the model on the given data."
   ]
  },
  {
   "cell_type": "markdown",
   "metadata": {},
   "source": [
    "### Sklearn Liniar Regression"
   ]
  },
  {
   "cell_type": "code",
   "execution_count": null,
   "metadata": {},
   "outputs": [
    {
     "name": "stdout",
     "output_type": "stream",
     "text": [
      "Liniar Regression Score of the model using sklearn is: 0.39187419993876704\n"
     ]
    }
   ],
   "source": [
    "model_sklearn=LinearRegression()\n",
    "model_sklearn.fit(X_train,y_train)\n",
    "\n",
    "\n",
    "score_sklearn=model_sklearn.score(X_test,y_test)\n",
    "print(\"Liniar Regression Score of the model using sklearn is:\",score_sklearn)"
   ]
  },
  {
   "cell_type": "markdown",
   "metadata": {},
   "source": [
    "## 📌Train and Evaluate selected features from dataset"
   ]
  },
  {
   "cell_type": "code",
   "execution_count": 195,
   "metadata": {},
   "outputs": [],
   "source": [
    "X = df_selected.drop(columns=[\"price\", \"full_model_name\"])\n",
    "# drop full_model_name because correlation is 0.96\n",
    "\n",
    "y=df_selected[\"price\"]\n",
    "\n",
    "X_train,X_test,y_train,y_test=train_test_split(X,y,test_size=0.3,random_state=42)"
   ]
  },
  {
   "cell_type": "code",
   "execution_count": 197,
   "metadata": {},
   "outputs": [
    {
     "data": {
      "text/plain": [
       "0.19914574213573655"
      ]
     },
     "execution_count": 197,
     "metadata": {},
     "output_type": "execute_result"
    }
   ],
   "source": [
    "model=LinearRegression()\n",
    "model.fit(X_train,y_train)\n",
    "y_pred=model.predict(X_test)\n",
    "score=model.score(X_test,y_test)\n",
    "score"
   ]
  },
  {
   "cell_type": "code",
   "execution_count": 196,
   "metadata": {},
   "outputs": [
    {
     "data": {
      "text/plain": [
       "0.19914574213573655"
      ]
     },
     "execution_count": 196,
     "metadata": {},
     "output_type": "execute_result"
    }
   ],
   "source": [
    "custom_model = CustomLR(learning_rate=0.001, iterations=1000, regularization=None)\n",
    "custom_model.fit(X_train,y_train)\n",
    "y_pred_custom=custom_model.predict(X_test)\n",
    "\n",
    "score_custom=r2_score(y_test,y_pred)\n",
    "score_custom"
   ]
  },
  {
   "cell_type": "markdown",
   "metadata": {},
   "source": [
    "Towards the end of my work with this dataset, I discovered repetitive columns that don't play a significant role, but I didn't remove them to maintain a somewhat appropriate result for linear regression. Initially, I used LabelEncoder for all object-type columns, and the highest correlation was 0.51. Then I realized I might not be using the most appropriate encoding method for some columns,so I modified the strategy for training and used (LabelEncoder TargetEncoder and OneHotEncoder)\n",
    "\n",
    "Correlations between 0.5 and 0.8 are extremely rare, which is why the result obtained with Sklearn.LinearRegression was low. If I had included the full_model_name correlation with the target column (which is 0.96), the r2_score would have increased to 0.92.\n",
    "\n",
    "Regarding my Linear Regression model, the implementation is correct, during calculations are producing some numerical issues,this is the cause why r2_score do not work and have a error.\n",
    "\n",
    "> ⚠ **Warning**  \n",
    "> Input has NaN values.  \n",
    "> `ValueError: Theta contains NaN or Inf values during training.`\n"
   ]
  }
 ],
 "metadata": {
  "kernelspec": {
   "display_name": "venv",
   "language": "python",
   "name": "python3"
  },
  "language_info": {
   "codemirror_mode": {
    "name": "ipython",
    "version": 3
   },
   "file_extension": ".py",
   "mimetype": "text/x-python",
   "name": "python",
   "nbconvert_exporter": "python",
   "pygments_lexer": "ipython3",
   "version": "3.11.8"
  }
 },
 "nbformat": 4,
 "nbformat_minor": 2
}
